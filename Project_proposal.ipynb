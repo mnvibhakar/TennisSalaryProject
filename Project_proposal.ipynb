{
 "cells": [
  {
   "cell_type": "code",
   "execution_count": 1,
   "id": "e0406e63-4601-4353-b24f-05cd2e888d6a",
   "metadata": {},
   "outputs": [],
   "source": [
    "#For the project Proposal"
   ]
  },
  {
   "cell_type": "code",
   "execution_count": 6,
   "id": "f472dc13-3c05-45f1-91a2-24d3db44da6b",
   "metadata": {},
   "outputs": [],
   "source": [
    "library(tidyverse)\n",
    "library(repr)\n",
    "library(rvest)\n",
    "library(stringr)\n",
    "options(repr.matrix.max.rows = 6)"
   ]
  },
  {
   "cell_type": "code",
   "execution_count": 10,
   "id": "4125f9de-7316-4419-8687-f66720e97f7c",
   "metadata": {},
   "outputs": [
    {
     "name": "stderr",
     "output_type": "stream",
     "text": [
      "\u001b[1m\u001b[22mNew names:\n",
      "\u001b[36m•\u001b[39m `` -> `...1`\n",
      "\u001b[1mRows: \u001b[22m\u001b[34m500\u001b[39m \u001b[1mColumns: \u001b[22m\u001b[34m38\u001b[39m\n",
      "\u001b[36m──\u001b[39m \u001b[1mColumn specification\u001b[22m \u001b[36m────────────────────────────────────────────────────────\u001b[39m\n",
      "\u001b[1mDelimiter:\u001b[22m \",\"\n",
      "\u001b[31mchr\u001b[39m (25): Age, Country, Plays, Wikipedia, Current Rank, Best Rank, Name, Bac...\n",
      "\u001b[32mdbl\u001b[39m (13): ...1, Turned Pro, Seasons, Titles, Best Season, Retired, Masters, ...\n",
      "\n",
      "\u001b[36mℹ\u001b[39m Use `spec()` to retrieve the full column specification for this data.\n",
      "\u001b[36mℹ\u001b[39m Specify the column types or set `show_col_types = FALSE` to quiet this message.\n",
      "Warning message in mask$eval_all_mutate(quo):\n",
      "“NAs introduced by coercion”\n"
     ]
    },
    {
     "data": {
      "text/html": [
       "<table class=\"dataframe\">\n",
       "<caption>A tibble: 282 × 17</caption>\n",
       "<thead>\n",
       "\t<tr><th scope=col>Age</th><th scope=col>Country</th><th scope=col>Plays</th><th scope=col>Current.Rank</th><th scope=col>Prev.Rank</th><th scope=col>Best.Rank</th><th scope=col>Best.Rank.Date</th><th scope=col>Name</th><th scope=col>Backhand</th><th scope=col>Prize.Money</th><th scope=col>Seasons</th><th scope=col>Current.Elo.Rank</th><th scope=col>Current.Elo.Rating</th><th scope=col>Best.Elo.Rank</th><th scope=col>Best.Elo.Rank.Date</th><th scope=col>Peak.Elo.Rating</th><th scope=col>Peak.Elo.Rating.Date</th></tr>\n",
       "\t<tr><th scope=col>&lt;chr&gt;</th><th scope=col>&lt;chr&gt;</th><th scope=col>&lt;chr&gt;</th><th scope=col>&lt;dbl&gt;</th><th scope=col>&lt;chr&gt;</th><th scope=col>&lt;chr&gt;</th><th scope=col>&lt;chr&gt;</th><th scope=col>&lt;chr&gt;</th><th scope=col>&lt;chr&gt;</th><th scope=col>&lt;dbl&gt;</th><th scope=col>&lt;dbl&gt;</th><th scope=col>&lt;dbl&gt;</th><th scope=col>&lt;chr&gt;</th><th scope=col>&lt;dbl&gt;</th><th scope=col>&lt;chr&gt;</th><th scope=col>&lt;dbl&gt;</th><th scope=col>&lt;chr&gt;</th></tr>\n",
       "</thead>\n",
       "<tbody>\n",
       "\t<tr><td>32 (03-11-1987)</td><td>Slovakia          </td><td>Right-handed</td><td>178</td><td>(280)</td><td>44 </td><td>(14-01-2013)</td><td>Lukas Lacko  </td><td>Two-handed</td><td>3261567</td><td>14</td><td>144</td><td>(1764)</td><td>60</td><td>(06-02-2012)</td><td>1886</td><td>(06-02-2012)</td></tr>\n",
       "\t<tr><td>21 (29-05-1998)</td><td>Korea, Republic of</td><td>Right-handed</td><td>236</td><td>(199)</td><td>130</td><td>(10-04-2017)</td><td>Duck Hee Lee </td><td>Two-handed</td><td> 374093</td><td> 2</td><td> NA</td><td>NA    </td><td>NA</td><td>NA          </td><td>  NA</td><td>NA          </td></tr>\n",
       "\t<tr><td>27 (21-10-1992)</td><td>Australia         </td><td>Right-handed</td><td>183</td><td>(273)</td><td>17 </td><td>(11-01-2016)</td><td>Bernard Tomic</td><td>Two-handed</td><td>6091971</td><td>11</td><td>100</td><td>(1826)</td><td>21</td><td>(23-03-2015)</td><td>2037</td><td>(01-02-2016)</td></tr>\n",
       "\t<tr><td>⋮</td><td>⋮</td><td>⋮</td><td>⋮</td><td>⋮</td><td>⋮</td><td>⋮</td><td>⋮</td><td>⋮</td><td>⋮</td><td>⋮</td><td>⋮</td><td>⋮</td><td>⋮</td><td>⋮</td><td>⋮</td><td>⋮</td></tr>\n",
       "\t<tr><td>26 (28-07-1993)</td><td>Bulgaria          </td><td>Right-handed</td><td>324</td><td>(120) </td><td>249</td><td>(24-12-2018)</td><td>Dimitar Kuzmanov</td><td>Two-handed</td><td>132871</td><td> 8</td><td>180</td><td>(1679)</td><td>179</td><td>(10-01-2020)</td><td>1679</td><td>(10-01-2020)</td></tr>\n",
       "\t<tr><td>20 (31-01-1999)</td><td>Russian Federation</td><td>Right-handed</td><td>397</td><td>(89)  </td><td>394</td><td>(18-11-2019)</td><td>Artem Dubrivnyy </td><td>Two-handed</td><td> 40724</td><td> 1</td><td> NA</td><td>NA    </td><td> NA</td><td>NA          </td><td>  NA</td><td>NA          </td></tr>\n",
       "\t<tr><td>26 (03-09-1993)</td><td>Austria           </td><td>Right-handed</td><td>  5</td><td>(5890)</td><td>4  </td><td>(06-11-2017)</td><td>Dominic Thiem   </td><td>One-handed</td><td>    NA</td><td>10</td><td>  6</td><td>(2188)</td><td>  5</td><td>(18-11-2019)</td><td>2211</td><td>(18-11-2019)</td></tr>\n",
       "</tbody>\n",
       "</table>\n"
      ],
      "text/latex": [
       "A tibble: 282 × 17\n",
       "\\begin{tabular}{lllllllllllllllll}\n",
       " Age & Country & Plays & Current.Rank & Prev.Rank & Best.Rank & Best.Rank.Date & Name & Backhand & Prize.Money & Seasons & Current.Elo.Rank & Current.Elo.Rating & Best.Elo.Rank & Best.Elo.Rank.Date & Peak.Elo.Rating & Peak.Elo.Rating.Date\\\\\n",
       " <chr> & <chr> & <chr> & <dbl> & <chr> & <chr> & <chr> & <chr> & <chr> & <dbl> & <dbl> & <dbl> & <chr> & <dbl> & <chr> & <dbl> & <chr>\\\\\n",
       "\\hline\n",
       "\t 32 (03-11-1987) & Slovakia           & Right-handed & 178 & (280) & 44  & (14-01-2013) & Lukas Lacko   & Two-handed & 3261567 & 14 & 144 & (1764) & 60 & (06-02-2012) & 1886 & (06-02-2012)\\\\\n",
       "\t 21 (29-05-1998) & Korea, Republic of & Right-handed & 236 & (199) & 130 & (10-04-2017) & Duck Hee Lee  & Two-handed &  374093 &  2 &  NA & NA     & NA & NA           &   NA & NA          \\\\\n",
       "\t 27 (21-10-1992) & Australia          & Right-handed & 183 & (273) & 17  & (11-01-2016) & Bernard Tomic & Two-handed & 6091971 & 11 & 100 & (1826) & 21 & (23-03-2015) & 2037 & (01-02-2016)\\\\\n",
       "\t ⋮ & ⋮ & ⋮ & ⋮ & ⋮ & ⋮ & ⋮ & ⋮ & ⋮ & ⋮ & ⋮ & ⋮ & ⋮ & ⋮ & ⋮ & ⋮ & ⋮\\\\\n",
       "\t 26 (28-07-1993) & Bulgaria           & Right-handed & 324 & (120)  & 249 & (24-12-2018) & Dimitar Kuzmanov & Two-handed & 132871 &  8 & 180 & (1679) & 179 & (10-01-2020) & 1679 & (10-01-2020)\\\\\n",
       "\t 20 (31-01-1999) & Russian Federation & Right-handed & 397 & (89)   & 394 & (18-11-2019) & Artem Dubrivnyy  & Two-handed &  40724 &  1 &  NA & NA     &  NA & NA           &   NA & NA          \\\\\n",
       "\t 26 (03-09-1993) & Austria            & Right-handed &   5 & (5890) & 4   & (06-11-2017) & Dominic Thiem    & One-handed &     NA & 10 &   6 & (2188) &   5 & (18-11-2019) & 2211 & (18-11-2019)\\\\\n",
       "\\end{tabular}\n"
      ],
      "text/markdown": [
       "\n",
       "A tibble: 282 × 17\n",
       "\n",
       "| Age &lt;chr&gt; | Country &lt;chr&gt; | Plays &lt;chr&gt; | Current.Rank &lt;dbl&gt; | Prev.Rank &lt;chr&gt; | Best.Rank &lt;chr&gt; | Best.Rank.Date &lt;chr&gt; | Name &lt;chr&gt; | Backhand &lt;chr&gt; | Prize.Money &lt;dbl&gt; | Seasons &lt;dbl&gt; | Current.Elo.Rank &lt;dbl&gt; | Current.Elo.Rating &lt;chr&gt; | Best.Elo.Rank &lt;dbl&gt; | Best.Elo.Rank.Date &lt;chr&gt; | Peak.Elo.Rating &lt;dbl&gt; | Peak.Elo.Rating.Date &lt;chr&gt; |\n",
       "|---|---|---|---|---|---|---|---|---|---|---|---|---|---|---|---|---|\n",
       "| 32 (03-11-1987) | Slovakia           | Right-handed | 178 | (280) | 44  | (14-01-2013) | Lukas Lacko   | Two-handed | 3261567 | 14 | 144 | (1764) | 60 | (06-02-2012) | 1886 | (06-02-2012) |\n",
       "| 21 (29-05-1998) | Korea, Republic of | Right-handed | 236 | (199) | 130 | (10-04-2017) | Duck Hee Lee  | Two-handed |  374093 |  2 |  NA | NA     | NA | NA           |   NA | NA           |\n",
       "| 27 (21-10-1992) | Australia          | Right-handed | 183 | (273) | 17  | (11-01-2016) | Bernard Tomic | Two-handed | 6091971 | 11 | 100 | (1826) | 21 | (23-03-2015) | 2037 | (01-02-2016) |\n",
       "| ⋮ | ⋮ | ⋮ | ⋮ | ⋮ | ⋮ | ⋮ | ⋮ | ⋮ | ⋮ | ⋮ | ⋮ | ⋮ | ⋮ | ⋮ | ⋮ | ⋮ |\n",
       "| 26 (28-07-1993) | Bulgaria           | Right-handed | 324 | (120)  | 249 | (24-12-2018) | Dimitar Kuzmanov | Two-handed | 132871 |  8 | 180 | (1679) | 179 | (10-01-2020) | 1679 | (10-01-2020) |\n",
       "| 20 (31-01-1999) | Russian Federation | Right-handed | 397 | (89)   | 394 | (18-11-2019) | Artem Dubrivnyy  | Two-handed |  40724 |  1 |  NA | NA     |  NA | NA           |   NA | NA           |\n",
       "| 26 (03-09-1993) | Austria            | Right-handed |   5 | (5890) | 4   | (06-11-2017) | Dominic Thiem    | One-handed |     NA | 10 |   6 | (2188) |   5 | (18-11-2019) | 2211 | (18-11-2019) |\n",
       "\n"
      ],
      "text/plain": [
       "    Age             Country            Plays        Current.Rank Prev.Rank\n",
       "1   32 (03-11-1987) Slovakia           Right-handed 178          (280)    \n",
       "2   21 (29-05-1998) Korea, Republic of Right-handed 236          (199)    \n",
       "3   27 (21-10-1992) Australia          Right-handed 183          (273)    \n",
       "⋮   ⋮               ⋮                  ⋮            ⋮            ⋮        \n",
       "280 26 (28-07-1993) Bulgaria           Right-handed 324          (120)    \n",
       "281 20 (31-01-1999) Russian Federation Right-handed 397          (89)     \n",
       "282 26 (03-09-1993) Austria            Right-handed   5          (5890)   \n",
       "    Best.Rank Best.Rank.Date Name             Backhand   Prize.Money Seasons\n",
       "1   44        (14-01-2013)   Lukas Lacko      Two-handed 3261567     14     \n",
       "2   130       (10-04-2017)   Duck Hee Lee     Two-handed  374093      2     \n",
       "3   17        (11-01-2016)   Bernard Tomic    Two-handed 6091971     11     \n",
       "⋮   ⋮         ⋮              ⋮                ⋮          ⋮           ⋮      \n",
       "280 249       (24-12-2018)   Dimitar Kuzmanov Two-handed 132871       8     \n",
       "281 394       (18-11-2019)   Artem Dubrivnyy  Two-handed  40724       1     \n",
       "282 4         (06-11-2017)   Dominic Thiem    One-handed     NA      10     \n",
       "    Current.Elo.Rank Current.Elo.Rating Best.Elo.Rank Best.Elo.Rank.Date\n",
       "1   144              (1764)             60            (06-02-2012)      \n",
       "2    NA              NA                 NA            NA                \n",
       "3   100              (1826)             21            (23-03-2015)      \n",
       "⋮   ⋮                ⋮                  ⋮             ⋮                 \n",
       "280 180              (1679)             179           (10-01-2020)      \n",
       "281  NA              NA                  NA           NA                \n",
       "282   6              (2188)               5           (18-11-2019)      \n",
       "    Peak.Elo.Rating Peak.Elo.Rating.Date\n",
       "1   1886            (06-02-2012)        \n",
       "2     NA            NA                  \n",
       "3   2037            (01-02-2016)        \n",
       "⋮   ⋮               ⋮                   \n",
       "280 1679            (10-01-2020)        \n",
       "281   NA            NA                  \n",
       "282 2211            (18-11-2019)        "
      ]
     },
     "metadata": {},
     "output_type": "display_data"
    }
   ],
   "source": [
    "tennis_data <- read_csv('player_stats.csv')\n",
    "colnames(tennis_data) <- make.names(colnames(tennis_data))\n",
    "\n",
    "tennis_data_final <- tennis_data |>\n",
    "filter(Active == \"Yes\") |>\n",
    "select(Age:Plays, Current.Rank:Prize.Money, Seasons, Current.Elo.Rank:Peak.Elo.Rating)\n",
    "tennis_data_final <- tennis_data |>\n",
    "filter(Active == \"Yes\") |>\n",
    "select(Age:Plays, Current.Rank:Prize.Money, Seasons, Current.Elo.Rank:Peak.Elo.Rating) |>\n",
    "separate(col = Current.Rank, into = c(\"Current.Rank\", \"Prev.Rank\"), sep = \" \") |>\n",
    "separate(col = Best.Rank, into = c(\"Best.Rank\", \"Best.Rank.Date\"), sep = \" \") |>\n",
    "separate(col = Current.Elo.Rank, into = c(\"Current.Elo.Rank\", \"Current.Elo.Rating\"), sep = \" \") |>\n",
    "separate(col = Best.Elo.Rank, into = c(\"Best.Elo.Rank\", \"Best.Elo.Rank.Date\"), sep = \" \") |>\n",
    "separate(col = Peak.Elo.Rating, into = c(\"Peak.Elo.Rating\", \"Peak.Elo.Rating.Date\"), sep = \" \") |>\n",
    "mutate(Current.Rank = as.numeric(Current.Rank), Current.Elo.Rank = as.numeric(Current.Elo.Rank),\n",
    "       Best.Elo.Rank = as.numeric(Best.Elo.Rank), Peak.Elo.Rating = as.numeric(Peak.Elo.Rating),\n",
    "       Prize.Money = as.numeric(gsub(\"[^0-9.-]\", \"\", Prize.Money)))\n",
    "tennis_data_final"
   ]
  },
  {
   "cell_type": "code",
   "execution_count": null,
   "id": "37861a8c-85f4-46bf-8687-37bf540a0171",
   "metadata": {},
   "outputs": [],
   "source": []
  }
 ],
 "metadata": {
  "kernelspec": {
   "display_name": "R",
   "language": "R",
   "name": "ir"
  },
  "language_info": {
   "codemirror_mode": "r",
   "file_extension": ".r",
   "mimetype": "text/x-r-source",
   "name": "R",
   "pygments_lexer": "r",
   "version": "4.1.3"
  }
 },
 "nbformat": 4,
 "nbformat_minor": 5
}
