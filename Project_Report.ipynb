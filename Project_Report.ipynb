{
 "cells": [
  {
   "cell_type": "code",
   "execution_count": 1,
   "id": "9e883e4a-c24c-4859-80f6-493afa51a6ef",
   "metadata": {},
   "outputs": [
    {
     "name": "stderr",
     "output_type": "stream",
     "text": [
      "── \u001b[1mAttaching packages\u001b[22m ─────────────────────────────────────── tidyverse 1.3.1 ──\n",
      "\n",
      "\u001b[32m✔\u001b[39m \u001b[34mggplot2\u001b[39m 3.3.6     \u001b[32m✔\u001b[39m \u001b[34mpurrr  \u001b[39m 0.3.4\n",
      "\u001b[32m✔\u001b[39m \u001b[34mtibble \u001b[39m 3.1.7     \u001b[32m✔\u001b[39m \u001b[34mdplyr  \u001b[39m 1.0.9\n",
      "\u001b[32m✔\u001b[39m \u001b[34mtidyr  \u001b[39m 1.2.0     \u001b[32m✔\u001b[39m \u001b[34mstringr\u001b[39m 1.4.0\n",
      "\u001b[32m✔\u001b[39m \u001b[34mreadr  \u001b[39m 2.1.2     \u001b[32m✔\u001b[39m \u001b[34mforcats\u001b[39m 0.5.1\n",
      "\n",
      "── \u001b[1mConflicts\u001b[22m ────────────────────────────────────────── tidyverse_conflicts() ──\n",
      "\u001b[31m✖\u001b[39m \u001b[34mdplyr\u001b[39m::\u001b[32mfilter()\u001b[39m masks \u001b[34mstats\u001b[39m::filter()\n",
      "\u001b[31m✖\u001b[39m \u001b[34mdplyr\u001b[39m::\u001b[32mlag()\u001b[39m    masks \u001b[34mstats\u001b[39m::lag()\n",
      "\n",
      "── \u001b[1mAttaching packages\u001b[22m ────────────────────────────────────── tidymodels 1.0.0 ──\n",
      "\n",
      "\u001b[32m✔\u001b[39m \u001b[34mbroom       \u001b[39m 1.0.0     \u001b[32m✔\u001b[39m \u001b[34mrsample     \u001b[39m 1.0.0\n",
      "\u001b[32m✔\u001b[39m \u001b[34mdials       \u001b[39m 1.0.0     \u001b[32m✔\u001b[39m \u001b[34mtune        \u001b[39m 1.0.0\n",
      "\u001b[32m✔\u001b[39m \u001b[34minfer       \u001b[39m 1.0.2     \u001b[32m✔\u001b[39m \u001b[34mworkflows   \u001b[39m 1.0.0\n",
      "\u001b[32m✔\u001b[39m \u001b[34mmodeldata   \u001b[39m 1.0.0     \u001b[32m✔\u001b[39m \u001b[34mworkflowsets\u001b[39m 1.0.0\n",
      "\u001b[32m✔\u001b[39m \u001b[34mparsnip     \u001b[39m 1.0.0     \u001b[32m✔\u001b[39m \u001b[34myardstick   \u001b[39m 1.0.0\n",
      "\u001b[32m✔\u001b[39m \u001b[34mrecipes     \u001b[39m 1.0.1     \n",
      "\n",
      "── \u001b[1mConflicts\u001b[22m ───────────────────────────────────────── tidymodels_conflicts() ──\n",
      "\u001b[31m✖\u001b[39m \u001b[34mscales\u001b[39m::\u001b[32mdiscard()\u001b[39m masks \u001b[34mpurrr\u001b[39m::discard()\n",
      "\u001b[31m✖\u001b[39m \u001b[34mdplyr\u001b[39m::\u001b[32mfilter()\u001b[39m   masks \u001b[34mstats\u001b[39m::filter()\n",
      "\u001b[31m✖\u001b[39m \u001b[34mrecipes\u001b[39m::\u001b[32mfixed()\u001b[39m  masks \u001b[34mstringr\u001b[39m::fixed()\n",
      "\u001b[31m✖\u001b[39m \u001b[34mdplyr\u001b[39m::\u001b[32mlag()\u001b[39m      masks \u001b[34mstats\u001b[39m::lag()\n",
      "\u001b[31m✖\u001b[39m \u001b[34myardstick\u001b[39m::\u001b[32mspec()\u001b[39m masks \u001b[34mreadr\u001b[39m::spec()\n",
      "\u001b[31m✖\u001b[39m \u001b[34mrecipes\u001b[39m::\u001b[32mstep()\u001b[39m   masks \u001b[34mstats\u001b[39m::step()\n",
      "\u001b[34m•\u001b[39m Dig deeper into tidy modeling with R at \u001b[32mhttps://www.tmwr.org\u001b[39m\n",
      "\n",
      "\n",
      "Attaching package: ‘rvest’\n",
      "\n",
      "\n",
      "The following object is masked from ‘package:readr’:\n",
      "\n",
      "    guess_encoding\n",
      "\n",
      "\n"
     ]
    }
   ],
   "source": [
    "library(tidyverse)\n",
    "library(tidymodels)\n",
    "library(repr)\n",
    "library(rvest)\n",
    "library(stringr)\n",
    "library(cowplot)\n",
    "options(repr.matrix.max.rows = 6)"
   ]
  },
  {
   "cell_type": "code",
   "execution_count": 2,
   "id": "1717d5b3-8569-44a0-8380-427246bc5b40",
   "metadata": {},
   "outputs": [
    {
     "name": "stderr",
     "output_type": "stream",
     "text": [
      "\u001b[1m\u001b[22mNew names:\n",
      "\u001b[36m•\u001b[39m `` -> `...1`\n",
      "\u001b[1mRows: \u001b[22m\u001b[34m500\u001b[39m \u001b[1mColumns: \u001b[22m\u001b[34m38\u001b[39m\n",
      "\u001b[36m──\u001b[39m \u001b[1mColumn specification\u001b[22m \u001b[36m────────────────────────────────────────────────────────\u001b[39m\n",
      "\u001b[1mDelimiter:\u001b[22m \",\"\n",
      "\u001b[31mchr\u001b[39m (25): Age, Country, Plays, Wikipedia, Current Rank, Best Rank, Name, Bac...\n",
      "\u001b[32mdbl\u001b[39m (13): ...1, Turned Pro, Seasons, Titles, Best Season, Retired, Masters, ...\n",
      "\n",
      "\u001b[36mℹ\u001b[39m Use `spec()` to retrieve the full column specification for this data.\n",
      "\u001b[36mℹ\u001b[39m Specify the column types or set `show_col_types = FALSE` to quiet this message.\n"
     ]
    }
   ],
   "source": [
    "tennis <- read_csv('https://drive.google.com/uc?export=download&id=1_MECmUXZuuILYeEOfonSGqodW6qVdhsS')\n",
    "colnames(tennis) <- make.names(colnames(tennis))"
   ]
  },
  {
   "cell_type": "code",
   "execution_count": 3,
   "id": "2238e49a-19ba-433e-a9f1-365b708be4c0",
   "metadata": {},
   "outputs": [
    {
     "name": "stderr",
     "output_type": "stream",
     "text": [
      "Warning message in mask$eval_all_mutate(quo):\n",
      "“NAs introduced by coercion”\n"
     ]
    },
    {
     "data": {
      "text/html": [
       "<table class=\"dataframe\">\n",
       "<caption>A tibble: 162 × 5</caption>\n",
       "<thead>\n",
       "\t<tr><th scope=col>Name</th><th scope=col>Age</th><th scope=col>Current.Rank</th><th scope=col>Current.Elo.Rating</th><th scope=col>Money.Per.Season</th></tr>\n",
       "\t<tr><th scope=col>&lt;chr&gt;</th><th scope=col>&lt;dbl&gt;</th><th scope=col>&lt;dbl&gt;</th><th scope=col>&lt;dbl&gt;</th><th scope=col>&lt;dbl&gt;</th></tr>\n",
       "</thead>\n",
       "<tbody>\n",
       "\t<tr><td>Lukas Lacko   </td><td>32</td><td>178</td><td>1764</td><td>232969.1</td></tr>\n",
       "\t<tr><td>Bernard Tomic </td><td>27</td><td>183</td><td>1826</td><td>553815.5</td></tr>\n",
       "\t<tr><td>Hubert Hurkacz</td><td>22</td><td> 31</td><td>1983</td><td>303431.4</td></tr>\n",
       "\t<tr><td>⋮</td><td>⋮</td><td>⋮</td><td>⋮</td><td>⋮</td></tr>\n",
       "\t<tr><td>Brayden Schnur  </td><td>24</td><td>103</td><td>1627</td><td>103659.25</td></tr>\n",
       "\t<tr><td>Mirza Basic     </td><td>28</td><td>292</td><td>1764</td><td>149759.14</td></tr>\n",
       "\t<tr><td>Dimitar Kuzmanov</td><td>26</td><td>324</td><td>1679</td><td> 16608.88</td></tr>\n",
       "</tbody>\n",
       "</table>\n"
      ],
      "text/latex": [
       "A tibble: 162 × 5\n",
       "\\begin{tabular}{lllll}\n",
       " Name & Age & Current.Rank & Current.Elo.Rating & Money.Per.Season\\\\\n",
       " <chr> & <dbl> & <dbl> & <dbl> & <dbl>\\\\\n",
       "\\hline\n",
       "\t Lukas Lacko    & 32 & 178 & 1764 & 232969.1\\\\\n",
       "\t Bernard Tomic  & 27 & 183 & 1826 & 553815.5\\\\\n",
       "\t Hubert Hurkacz & 22 &  31 & 1983 & 303431.4\\\\\n",
       "\t ⋮ & ⋮ & ⋮ & ⋮ & ⋮\\\\\n",
       "\t Brayden Schnur   & 24 & 103 & 1627 & 103659.25\\\\\n",
       "\t Mirza Basic      & 28 & 292 & 1764 & 149759.14\\\\\n",
       "\t Dimitar Kuzmanov & 26 & 324 & 1679 &  16608.88\\\\\n",
       "\\end{tabular}\n"
      ],
      "text/markdown": [
       "\n",
       "A tibble: 162 × 5\n",
       "\n",
       "| Name &lt;chr&gt; | Age &lt;dbl&gt; | Current.Rank &lt;dbl&gt; | Current.Elo.Rating &lt;dbl&gt; | Money.Per.Season &lt;dbl&gt; |\n",
       "|---|---|---|---|---|\n",
       "| Lukas Lacko    | 32 | 178 | 1764 | 232969.1 |\n",
       "| Bernard Tomic  | 27 | 183 | 1826 | 553815.5 |\n",
       "| Hubert Hurkacz | 22 |  31 | 1983 | 303431.4 |\n",
       "| ⋮ | ⋮ | ⋮ | ⋮ | ⋮ |\n",
       "| Brayden Schnur   | 24 | 103 | 1627 | 103659.25 |\n",
       "| Mirza Basic      | 28 | 292 | 1764 | 149759.14 |\n",
       "| Dimitar Kuzmanov | 26 | 324 | 1679 |  16608.88 |\n",
       "\n"
      ],
      "text/plain": [
       "    Name             Age Current.Rank Current.Elo.Rating Money.Per.Season\n",
       "1   Lukas Lacko      32  178          1764               232969.1        \n",
       "2   Bernard Tomic    27  183          1826               553815.5        \n",
       "3   Hubert Hurkacz   22   31          1983               303431.4        \n",
       "⋮   ⋮                ⋮   ⋮            ⋮                  ⋮               \n",
       "160 Brayden Schnur   24  103          1627               103659.25       \n",
       "161 Mirza Basic      28  292          1764               149759.14       \n",
       "162 Dimitar Kuzmanov 26  324          1679                16608.88       "
      ]
     },
     "metadata": {},
     "output_type": "display_data"
    }
   ],
   "source": [
    "tennis_data <- tennis |>\n",
    "filter(Active == \"Yes\") |>\n",
    "separate(col = Age, into = c(\"Age\", \"Birth.Date\"), sep = \" \") |>\n",
    "separate(col = Current.Rank, into = c(\"Current.Rank\", \"Prev.Rank\"), sep = \" \") |>\n",
    "separate(col = Current.Elo.Rank, into = c(\"Current.Elo.Rank\", \"Current.Elo.Rating\"), sep = \" \") |>\n",
    "mutate(Current.Rank = as.numeric(Current.Rank),\n",
    "       Current.Elo.Rating = as.numeric(gsub(\"[^0-9.-]\", \"\", Current.Elo.Rating)),\n",
    "       Age = as.numeric(Age),\n",
    "       Prize.Money = as.numeric(gsub(\"[^0-9.-]\", \"\", Prize.Money)),\n",
    "       Money.Per.Season = Prize.Money/Seasons) |>\n",
    "select(Name, Age, Current.Rank, Current.Elo.Rating, Money.Per.Season) |>\n",
    "drop_na()\n",
    "tennis_data"
   ]
  },
  {
   "cell_type": "code",
   "execution_count": 4,
   "id": "bcdc1c7a-289f-4a3b-84e7-3d65408e9521",
   "metadata": {},
   "outputs": [],
   "source": [
    "set.seed(16)\n",
    "\n",
    "tennis_split <- initial_split(tennis_data)\n",
    "tennis_training <- training(tennis_split)\n",
    "tennis_testing <- testing(tennis_split)"
   ]
  },
  {
   "cell_type": "code",
   "execution_count": null,
   "id": "1e634291-fdda-40a3-8dd6-939bad38ab6f",
   "metadata": {},
   "outputs": [],
   "source": []
  }
 ],
 "metadata": {
  "kernelspec": {
   "display_name": "R",
   "language": "R",
   "name": "ir"
  },
  "language_info": {
   "codemirror_mode": "r",
   "file_extension": ".r",
   "mimetype": "text/x-r-source",
   "name": "R",
   "pygments_lexer": "r",
   "version": "4.1.3"
  }
 },
 "nbformat": 4,
 "nbformat_minor": 5
}
