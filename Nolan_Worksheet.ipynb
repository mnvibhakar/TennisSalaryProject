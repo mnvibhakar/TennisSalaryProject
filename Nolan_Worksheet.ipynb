{
 "cells": [
  {
   "cell_type": "code",
   "execution_count": 13,
   "id": "048e2f78-dd7b-4989-a494-287a3fb17232",
   "metadata": {},
   "outputs": [
    {
     "name": "stderr",
     "output_type": "stream",
     "text": [
      "\n",
      "Attaching package: ‘rvest’\n",
      "\n",
      "\n",
      "The following object is masked from ‘package:readr’:\n",
      "\n",
      "    guess_encoding\n",
      "\n",
      "\n"
     ]
    }
   ],
   "source": [
    "library(tidyverse)\n",
    "library(repr)\n",
    "library(rvest)\n",
    "library(stringr)\n",
    "options(repr.matrix.max.rows = 6)"
   ]
  },
  {
   "cell_type": "code",
   "execution_count": 12,
   "id": "a442e1fe-b168-4581-8170-7cd164f1ac66",
   "metadata": {},
   "outputs": [
    {
     "data": {
      "text/html": [
       "No documentation for ‘col_names’ in specified packages and libraries:\n",
       "you could try ‘??col_names’"
      ],
      "text/latex": [
       "No documentation for ‘col_names’ in specified packages and libraries:\n",
       "you could try ‘??col_names’"
      ],
      "text/plain": [
       "No documentation for ‘col_names’ in specified packages and libraries:\n",
       "you could try ‘??col_names’"
      ]
     },
     "metadata": {},
     "output_type": "display_data"
    }
   ],
   "source": []
  },
  {
   "cell_type": "code",
   "execution_count": 26,
   "id": "2fd6dea7-ccca-491f-b1a4-69d32f33c691",
   "metadata": {},
   "outputs": [
    {
     "name": "stderr",
     "output_type": "stream",
     "text": [
      "\u001b[1m\u001b[22mNew names:\n",
      "\u001b[36m•\u001b[39m `` -> `...1`\n",
      "\u001b[1mRows: \u001b[22m\u001b[34m500\u001b[39m \u001b[1mColumns: \u001b[22m\u001b[34m38\u001b[39m\n",
      "\u001b[36m──\u001b[39m \u001b[1mColumn specification\u001b[22m \u001b[36m────────────────────────────────────────────────────────\u001b[39m\n",
      "\u001b[1mDelimiter:\u001b[22m \",\"\n",
      "\u001b[31mchr\u001b[39m (25): Age, Country, Plays, Wikipedia, Current Rank, Best Rank, Name, Bac...\n",
      "\u001b[32mdbl\u001b[39m (13): ...1, Turned Pro, Seasons, Titles, Best Season, Retired, Masters, ...\n",
      "\n",
      "\u001b[36mℹ\u001b[39m Use `spec()` to retrieve the full column specification for this data.\n",
      "\u001b[36mℹ\u001b[39m Specify the column types or set `show_col_types = FALSE` to quiet this message.\n"
     ]
    },
    {
     "data": {
      "text/html": [
       "<table class=\"dataframe\">\n",
       "<caption>A tibble: 282 × 12</caption>\n",
       "<thead>\n",
       "\t<tr><th scope=col>Age</th><th scope=col>Country</th><th scope=col>Plays</th><th scope=col>Current.Rank</th><th scope=col>Best.Rank</th><th scope=col>Name</th><th scope=col>Backhand</th><th scope=col>Prize.Money</th><th scope=col>Seasons</th><th scope=col>Current.Elo.Rank</th><th scope=col>Best.Elo.Rank</th><th scope=col>Peak.Elo.Rating</th></tr>\n",
       "\t<tr><th scope=col>&lt;chr&gt;</th><th scope=col>&lt;chr&gt;</th><th scope=col>&lt;chr&gt;</th><th scope=col>&lt;chr&gt;</th><th scope=col>&lt;chr&gt;</th><th scope=col>&lt;chr&gt;</th><th scope=col>&lt;chr&gt;</th><th scope=col>&lt;chr&gt;</th><th scope=col>&lt;dbl&gt;</th><th scope=col>&lt;chr&gt;</th><th scope=col>&lt;chr&gt;</th><th scope=col>&lt;chr&gt;</th></tr>\n",
       "</thead>\n",
       "<tbody>\n",
       "\t<tr><td>32 (03-11-1987)</td><td>Slovakia          </td><td>Right-handed</td><td>178 (280)</td><td>44 (14-01-2013) </td><td>Lukas Lacko  </td><td>Two-handed</td><td>US$3,261,567</td><td>14</td><td>144 (1764)</td><td>60 (06-02-2012)</td><td>1886 (06-02-2012)</td></tr>\n",
       "\t<tr><td>21 (29-05-1998)</td><td>Korea, Republic of</td><td>Right-handed</td><td>236 (199)</td><td>130 (10-04-2017)</td><td>Duck Hee Lee </td><td>Two-handed</td><td>$374,093    </td><td> 2</td><td>NA        </td><td>NA             </td><td>NA               </td></tr>\n",
       "\t<tr><td>27 (21-10-1992)</td><td>Australia         </td><td>Right-handed</td><td>183 (273)</td><td>17 (11-01-2016) </td><td>Bernard Tomic</td><td>Two-handed</td><td>US$6,091,971</td><td>11</td><td>100 (1826)</td><td>21 (23-03-2015)</td><td>2037 (01-02-2016)</td></tr>\n",
       "\t<tr><td>⋮</td><td>⋮</td><td>⋮</td><td>⋮</td><td>⋮</td><td>⋮</td><td>⋮</td><td>⋮</td><td>⋮</td><td>⋮</td><td>⋮</td><td>⋮</td></tr>\n",
       "\t<tr><td>26 (28-07-1993)</td><td>Bulgaria          </td><td>Right-handed</td><td>324 (120)</td><td>249 (24-12-2018)</td><td>Dimitar Kuzmanov</td><td>Two-handed</td><td>US$ 132,871                                 </td><td> 8</td><td>180 (1679)</td><td>179 (10-01-2020)</td><td>1679 (10-01-2020)</td></tr>\n",
       "\t<tr><td>20 (31-01-1999)</td><td>Russian Federation</td><td>Right-handed</td><td>397 (89) </td><td>394 (18-11-2019)</td><td>Artem Dubrivnyy </td><td>Two-handed</td><td>$40,724                                     </td><td> 1</td><td>NA        </td><td>NA              </td><td>NA               </td></tr>\n",
       "\t<tr><td>26 (03-09-1993)</td><td>Austria           </td><td>Right-handed</td><td>5 (5890) </td><td>4 (06-11-2017)  </td><td>Dominic Thiem   </td><td>One-handed</td><td>$22,132,368 15th all-time leader in earnings</td><td>10</td><td>6 (2188)  </td><td>5 (18-11-2019)  </td><td>2211 (18-11-2019)</td></tr>\n",
       "</tbody>\n",
       "</table>\n"
      ],
      "text/latex": [
       "A tibble: 282 × 12\n",
       "\\begin{tabular}{llllllllllll}\n",
       " Age & Country & Plays & Current.Rank & Best.Rank & Name & Backhand & Prize.Money & Seasons & Current.Elo.Rank & Best.Elo.Rank & Peak.Elo.Rating\\\\\n",
       " <chr> & <chr> & <chr> & <chr> & <chr> & <chr> & <chr> & <chr> & <dbl> & <chr> & <chr> & <chr>\\\\\n",
       "\\hline\n",
       "\t 32 (03-11-1987) & Slovakia           & Right-handed & 178 (280) & 44 (14-01-2013)  & Lukas Lacko   & Two-handed & US\\$3,261,567 & 14 & 144 (1764) & 60 (06-02-2012) & 1886 (06-02-2012)\\\\\n",
       "\t 21 (29-05-1998) & Korea, Republic of & Right-handed & 236 (199) & 130 (10-04-2017) & Duck Hee Lee  & Two-handed & \\$374,093     &  2 & NA         & NA              & NA               \\\\\n",
       "\t 27 (21-10-1992) & Australia          & Right-handed & 183 (273) & 17 (11-01-2016)  & Bernard Tomic & Two-handed & US\\$6,091,971 & 11 & 100 (1826) & 21 (23-03-2015) & 2037 (01-02-2016)\\\\\n",
       "\t ⋮ & ⋮ & ⋮ & ⋮ & ⋮ & ⋮ & ⋮ & ⋮ & ⋮ & ⋮ & ⋮ & ⋮\\\\\n",
       "\t 26 (28-07-1993) & Bulgaria           & Right-handed & 324 (120) & 249 (24-12-2018) & Dimitar Kuzmanov & Two-handed & US\\$ 132,871                                  &  8 & 180 (1679) & 179 (10-01-2020) & 1679 (10-01-2020)\\\\\n",
       "\t 20 (31-01-1999) & Russian Federation & Right-handed & 397 (89)  & 394 (18-11-2019) & Artem Dubrivnyy  & Two-handed & \\$40,724                                      &  1 & NA         & NA               & NA               \\\\\n",
       "\t 26 (03-09-1993) & Austria            & Right-handed & 5 (5890)  & 4 (06-11-2017)   & Dominic Thiem    & One-handed & \\$22,132,368 15th all-time leader in earnings & 10 & 6 (2188)   & 5 (18-11-2019)   & 2211 (18-11-2019)\\\\\n",
       "\\end{tabular}\n"
      ],
      "text/markdown": [
       "\n",
       "A tibble: 282 × 12\n",
       "\n",
       "| Age &lt;chr&gt; | Country &lt;chr&gt; | Plays &lt;chr&gt; | Current.Rank &lt;chr&gt; | Best.Rank &lt;chr&gt; | Name &lt;chr&gt; | Backhand &lt;chr&gt; | Prize.Money &lt;chr&gt; | Seasons &lt;dbl&gt; | Current.Elo.Rank &lt;chr&gt; | Best.Elo.Rank &lt;chr&gt; | Peak.Elo.Rating &lt;chr&gt; |\n",
       "|---|---|---|---|---|---|---|---|---|---|---|---|\n",
       "| 32 (03-11-1987) | Slovakia           | Right-handed | 178 (280) | 44 (14-01-2013)  | Lukas Lacko   | Two-handed | US$3,261,567 | 14 | 144 (1764) | 60 (06-02-2012) | 1886 (06-02-2012) |\n",
       "| 21 (29-05-1998) | Korea, Republic of | Right-handed | 236 (199) | 130 (10-04-2017) | Duck Hee Lee  | Two-handed | $374,093     |  2 | NA         | NA              | NA                |\n",
       "| 27 (21-10-1992) | Australia          | Right-handed | 183 (273) | 17 (11-01-2016)  | Bernard Tomic | Two-handed | US$6,091,971 | 11 | 100 (1826) | 21 (23-03-2015) | 2037 (01-02-2016) |\n",
       "| ⋮ | ⋮ | ⋮ | ⋮ | ⋮ | ⋮ | ⋮ | ⋮ | ⋮ | ⋮ | ⋮ | ⋮ |\n",
       "| 26 (28-07-1993) | Bulgaria           | Right-handed | 324 (120) | 249 (24-12-2018) | Dimitar Kuzmanov | Two-handed | US$ 132,871                                  |  8 | 180 (1679) | 179 (10-01-2020) | 1679 (10-01-2020) |\n",
       "| 20 (31-01-1999) | Russian Federation | Right-handed | 397 (89)  | 394 (18-11-2019) | Artem Dubrivnyy  | Two-handed | $40,724                                      |  1 | NA         | NA               | NA                |\n",
       "| 26 (03-09-1993) | Austria            | Right-handed | 5 (5890)  | 4 (06-11-2017)   | Dominic Thiem    | One-handed | $22,132,368 15th all-time leader in earnings | 10 | 6 (2188)   | 5 (18-11-2019)   | 2211 (18-11-2019) |\n",
       "\n"
      ],
      "text/plain": [
       "    Age             Country            Plays        Current.Rank\n",
       "1   32 (03-11-1987) Slovakia           Right-handed 178 (280)   \n",
       "2   21 (29-05-1998) Korea, Republic of Right-handed 236 (199)   \n",
       "3   27 (21-10-1992) Australia          Right-handed 183 (273)   \n",
       "⋮   ⋮               ⋮                  ⋮            ⋮           \n",
       "280 26 (28-07-1993) Bulgaria           Right-handed 324 (120)   \n",
       "281 20 (31-01-1999) Russian Federation Right-handed 397 (89)    \n",
       "282 26 (03-09-1993) Austria            Right-handed 5 (5890)    \n",
       "    Best.Rank        Name             Backhand  \n",
       "1   44 (14-01-2013)  Lukas Lacko      Two-handed\n",
       "2   130 (10-04-2017) Duck Hee Lee     Two-handed\n",
       "3   17 (11-01-2016)  Bernard Tomic    Two-handed\n",
       "⋮   ⋮                ⋮                ⋮         \n",
       "280 249 (24-12-2018) Dimitar Kuzmanov Two-handed\n",
       "281 394 (18-11-2019) Artem Dubrivnyy  Two-handed\n",
       "282 4 (06-11-2017)   Dominic Thiem    One-handed\n",
       "    Prize.Money                                  Seasons Current.Elo.Rank\n",
       "1   US$3,261,567                                 14      144 (1764)      \n",
       "2   $374,093                                      2      NA              \n",
       "3   US$6,091,971                                 11      100 (1826)      \n",
       "⋮   ⋮                                            ⋮       ⋮               \n",
       "280 US$ 132,871                                   8      180 (1679)      \n",
       "281 $40,724                                       1      NA              \n",
       "282 $22,132,368 15th all-time leader in earnings 10      6 (2188)        \n",
       "    Best.Elo.Rank    Peak.Elo.Rating  \n",
       "1   60 (06-02-2012)  1886 (06-02-2012)\n",
       "2   NA               NA               \n",
       "3   21 (23-03-2015)  2037 (01-02-2016)\n",
       "⋮   ⋮                ⋮                \n",
       "280 179 (10-01-2020) 1679 (10-01-2020)\n",
       "281 NA               NA               \n",
       "282 5 (18-11-2019)   2211 (18-11-2019)"
      ]
     },
     "metadata": {},
     "output_type": "display_data"
    }
   ],
   "source": [
    "tennis_data <- read_csv('player_stats.csv')\n",
    "colnames(tennis_data) <- make.names(colnames(tennis_data))\n",
    "\n",
    "tennis_data_final <- tennis_data |>\n",
    "filter(Active == \"Yes\") |>\n",
    "select(Age:Plays, Current.Rank:Prize.Money, Seasons, Current.Elo.Rank:Peak.Elo.Rating)\n",
    "tennis_data_final"
   ]
  },
  {
   "cell_type": "code",
   "execution_count": 21,
   "id": "37a58ace-cee9-4afa-92c6-7f663979830e",
   "metadata": {},
   "outputs": [
    {
     "data": {
      "text/html": [
       "<table class=\"dataframe\">\n",
       "<caption>A tibble: 282 × 12</caption>\n",
       "<thead>\n",
       "\t<tr><th scope=col>Age</th><th scope=col>Country</th><th scope=col>Plays</th><th scope=col>Current.Rank</th><th scope=col>Best.Rank</th><th scope=col>Name</th><th scope=col>Backhand</th><th scope=col>Prize.Money</th><th scope=col>Seasons</th><th scope=col>Current.Elo.Rank</th><th scope=col>Best.Elo.Rank</th><th scope=col>Peak.Elo.Rating</th></tr>\n",
       "\t<tr><th scope=col>&lt;chr&gt;</th><th scope=col>&lt;chr&gt;</th><th scope=col>&lt;chr&gt;</th><th scope=col>&lt;chr&gt;</th><th scope=col>&lt;chr&gt;</th><th scope=col>&lt;chr&gt;</th><th scope=col>&lt;chr&gt;</th><th scope=col>&lt;chr&gt;</th><th scope=col>&lt;dbl&gt;</th><th scope=col>&lt;chr&gt;</th><th scope=col>&lt;chr&gt;</th><th scope=col>&lt;chr&gt;</th></tr>\n",
       "</thead>\n",
       "<tbody>\n",
       "\t<tr><td>32 (03-11-1987)</td><td>Slovakia          </td><td>Right-handed</td><td>178 (280)</td><td>44 (14-01-2013) </td><td>Lukas Lacko  </td><td>Two-handed</td><td>US$3,261,567</td><td>14</td><td>144 (1764)</td><td>60 (06-02-2012)</td><td>1886 (06-02-2012)</td></tr>\n",
       "\t<tr><td>21 (29-05-1998)</td><td>Korea, Republic of</td><td>Right-handed</td><td>236 (199)</td><td>130 (10-04-2017)</td><td>Duck Hee Lee </td><td>Two-handed</td><td>$374,093    </td><td> 2</td><td>NA        </td><td>NA             </td><td>NA               </td></tr>\n",
       "\t<tr><td>27 (21-10-1992)</td><td>Australia         </td><td>Right-handed</td><td>183 (273)</td><td>17 (11-01-2016) </td><td>Bernard Tomic</td><td>Two-handed</td><td>US$6,091,971</td><td>11</td><td>100 (1826)</td><td>21 (23-03-2015)</td><td>2037 (01-02-2016)</td></tr>\n",
       "\t<tr><td>⋮</td><td>⋮</td><td>⋮</td><td>⋮</td><td>⋮</td><td>⋮</td><td>⋮</td><td>⋮</td><td>⋮</td><td>⋮</td><td>⋮</td><td>⋮</td></tr>\n",
       "\t<tr><td>26 (28-07-1993)</td><td>Bulgaria          </td><td>Right-handed</td><td>324 (120)</td><td>249 (24-12-2018)</td><td>Dimitar Kuzmanov</td><td>Two-handed</td><td>US$ 132,871                                 </td><td> 8</td><td>180 (1679)</td><td>179 (10-01-2020)</td><td>1679 (10-01-2020)</td></tr>\n",
       "\t<tr><td>20 (31-01-1999)</td><td>Russian Federation</td><td>Right-handed</td><td>397 (89) </td><td>394 (18-11-2019)</td><td>Artem Dubrivnyy </td><td>Two-handed</td><td>$40,724                                     </td><td> 1</td><td>NA        </td><td>NA              </td><td>NA               </td></tr>\n",
       "\t<tr><td>26 (03-09-1993)</td><td>Austria           </td><td>Right-handed</td><td>5 (5890) </td><td>4 (06-11-2017)  </td><td>Dominic Thiem   </td><td>One-handed</td><td>$22,132,368 15th all-time leader in earnings</td><td>10</td><td>6 (2188)  </td><td>5 (18-11-2019)  </td><td>2211 (18-11-2019)</td></tr>\n",
       "</tbody>\n",
       "</table>\n"
      ],
      "text/latex": [
       "A tibble: 282 × 12\n",
       "\\begin{tabular}{llllllllllll}\n",
       " Age & Country & Plays & Current.Rank & Best.Rank & Name & Backhand & Prize.Money & Seasons & Current.Elo.Rank & Best.Elo.Rank & Peak.Elo.Rating\\\\\n",
       " <chr> & <chr> & <chr> & <chr> & <chr> & <chr> & <chr> & <chr> & <dbl> & <chr> & <chr> & <chr>\\\\\n",
       "\\hline\n",
       "\t 32 (03-11-1987) & Slovakia           & Right-handed & 178 (280) & 44 (14-01-2013)  & Lukas Lacko   & Two-handed & US\\$3,261,567 & 14 & 144 (1764) & 60 (06-02-2012) & 1886 (06-02-2012)\\\\\n",
       "\t 21 (29-05-1998) & Korea, Republic of & Right-handed & 236 (199) & 130 (10-04-2017) & Duck Hee Lee  & Two-handed & \\$374,093     &  2 & NA         & NA              & NA               \\\\\n",
       "\t 27 (21-10-1992) & Australia          & Right-handed & 183 (273) & 17 (11-01-2016)  & Bernard Tomic & Two-handed & US\\$6,091,971 & 11 & 100 (1826) & 21 (23-03-2015) & 2037 (01-02-2016)\\\\\n",
       "\t ⋮ & ⋮ & ⋮ & ⋮ & ⋮ & ⋮ & ⋮ & ⋮ & ⋮ & ⋮ & ⋮ & ⋮\\\\\n",
       "\t 26 (28-07-1993) & Bulgaria           & Right-handed & 324 (120) & 249 (24-12-2018) & Dimitar Kuzmanov & Two-handed & US\\$ 132,871                                  &  8 & 180 (1679) & 179 (10-01-2020) & 1679 (10-01-2020)\\\\\n",
       "\t 20 (31-01-1999) & Russian Federation & Right-handed & 397 (89)  & 394 (18-11-2019) & Artem Dubrivnyy  & Two-handed & \\$40,724                                      &  1 & NA         & NA               & NA               \\\\\n",
       "\t 26 (03-09-1993) & Austria            & Right-handed & 5 (5890)  & 4 (06-11-2017)   & Dominic Thiem    & One-handed & \\$22,132,368 15th all-time leader in earnings & 10 & 6 (2188)   & 5 (18-11-2019)   & 2211 (18-11-2019)\\\\\n",
       "\\end{tabular}\n"
      ],
      "text/markdown": [
       "\n",
       "A tibble: 282 × 12\n",
       "\n",
       "| Age &lt;chr&gt; | Country &lt;chr&gt; | Plays &lt;chr&gt; | Current.Rank &lt;chr&gt; | Best.Rank &lt;chr&gt; | Name &lt;chr&gt; | Backhand &lt;chr&gt; | Prize.Money &lt;chr&gt; | Seasons &lt;dbl&gt; | Current.Elo.Rank &lt;chr&gt; | Best.Elo.Rank &lt;chr&gt; | Peak.Elo.Rating &lt;chr&gt; |\n",
       "|---|---|---|---|---|---|---|---|---|---|---|---|\n",
       "| 32 (03-11-1987) | Slovakia           | Right-handed | 178 (280) | 44 (14-01-2013)  | Lukas Lacko   | Two-handed | US$3,261,567 | 14 | 144 (1764) | 60 (06-02-2012) | 1886 (06-02-2012) |\n",
       "| 21 (29-05-1998) | Korea, Republic of | Right-handed | 236 (199) | 130 (10-04-2017) | Duck Hee Lee  | Two-handed | $374,093     |  2 | NA         | NA              | NA                |\n",
       "| 27 (21-10-1992) | Australia          | Right-handed | 183 (273) | 17 (11-01-2016)  | Bernard Tomic | Two-handed | US$6,091,971 | 11 | 100 (1826) | 21 (23-03-2015) | 2037 (01-02-2016) |\n",
       "| ⋮ | ⋮ | ⋮ | ⋮ | ⋮ | ⋮ | ⋮ | ⋮ | ⋮ | ⋮ | ⋮ | ⋮ |\n",
       "| 26 (28-07-1993) | Bulgaria           | Right-handed | 324 (120) | 249 (24-12-2018) | Dimitar Kuzmanov | Two-handed | US$ 132,871                                  |  8 | 180 (1679) | 179 (10-01-2020) | 1679 (10-01-2020) |\n",
       "| 20 (31-01-1999) | Russian Federation | Right-handed | 397 (89)  | 394 (18-11-2019) | Artem Dubrivnyy  | Two-handed | $40,724                                      |  1 | NA         | NA               | NA                |\n",
       "| 26 (03-09-1993) | Austria            | Right-handed | 5 (5890)  | 4 (06-11-2017)   | Dominic Thiem    | One-handed | $22,132,368 15th all-time leader in earnings | 10 | 6 (2188)   | 5 (18-11-2019)   | 2211 (18-11-2019) |\n",
       "\n"
      ],
      "text/plain": [
       "    Age             Country            Plays        Current.Rank\n",
       "1   32 (03-11-1987) Slovakia           Right-handed 178 (280)   \n",
       "2   21 (29-05-1998) Korea, Republic of Right-handed 236 (199)   \n",
       "3   27 (21-10-1992) Australia          Right-handed 183 (273)   \n",
       "⋮   ⋮               ⋮                  ⋮            ⋮           \n",
       "280 26 (28-07-1993) Bulgaria           Right-handed 324 (120)   \n",
       "281 20 (31-01-1999) Russian Federation Right-handed 397 (89)    \n",
       "282 26 (03-09-1993) Austria            Right-handed 5 (5890)    \n",
       "    Best.Rank        Name             Backhand  \n",
       "1   44 (14-01-2013)  Lukas Lacko      Two-handed\n",
       "2   130 (10-04-2017) Duck Hee Lee     Two-handed\n",
       "3   17 (11-01-2016)  Bernard Tomic    Two-handed\n",
       "⋮   ⋮                ⋮                ⋮         \n",
       "280 249 (24-12-2018) Dimitar Kuzmanov Two-handed\n",
       "281 394 (18-11-2019) Artem Dubrivnyy  Two-handed\n",
       "282 4 (06-11-2017)   Dominic Thiem    One-handed\n",
       "    Prize.Money                                  Seasons Current.Elo.Rank\n",
       "1   US$3,261,567                                 14      144 (1764)      \n",
       "2   $374,093                                      2      NA              \n",
       "3   US$6,091,971                                 11      100 (1826)      \n",
       "⋮   ⋮                                            ⋮       ⋮               \n",
       "280 US$ 132,871                                   8      180 (1679)      \n",
       "281 $40,724                                       1      NA              \n",
       "282 $22,132,368 15th all-time leader in earnings 10      6 (2188)        \n",
       "    Best.Elo.Rank    Peak.Elo.Rating  \n",
       "1   60 (06-02-2012)  1886 (06-02-2012)\n",
       "2   NA               NA               \n",
       "3   21 (23-03-2015)  2037 (01-02-2016)\n",
       "⋮   ⋮                ⋮                \n",
       "280 179 (10-01-2020) 1679 (10-01-2020)\n",
       "281 NA               NA               \n",
       "282 5 (18-11-2019)   2211 (18-11-2019)"
      ]
     },
     "metadata": {},
     "output_type": "display_data"
    }
   ],
   "source": [
    "tennis_data <- tennis_data |>\n",
    "filter(Active == \"Yes\") |>\n",
    "select(Age:Plays, Current.Rank:Prize.Money, Seasons, Current.Elo.Rank:Peak.Elo.Rating)\n",
    "tennis_data"
   ]
  },
  {
   "cell_type": "code",
   "execution_count": null,
   "id": "b68aff1f-2004-4301-921c-c51cc5f42541",
   "metadata": {},
   "outputs": [],
   "source": []
  }
 ],
 "metadata": {
  "kernelspec": {
   "display_name": "R",
   "language": "R",
   "name": "ir"
  },
  "language_info": {
   "codemirror_mode": "r",
   "file_extension": ".r",
   "mimetype": "text/x-r-source",
   "name": "R",
   "pygments_lexer": "r",
   "version": "4.1.3"
  }
 },
 "nbformat": 4,
 "nbformat_minor": 5
}
