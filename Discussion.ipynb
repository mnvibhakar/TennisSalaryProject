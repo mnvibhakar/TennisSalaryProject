{
 "cells": [
  {
   "cell_type": "markdown",
   "id": "599869f2-1aa8-4153-95e5-45faa85d373e",
   "metadata": {},
   "source": [
    "In this research, we discovered that our model was capable of predicting how much money earned each player in the following season with an error (342,567.1). When compared to the RMSPE calculated from the training set predictions(337994.6) the difference is relatively small. However, the overall root mean square error (RMSE) is still considerable large for our purposes as the majority of the players (with the exception of the outlier Rafael Nadal) have a Money.Per.Season of less than 2,000,000 so 342,567 would be a relativley large difference in their earnings.\n",
    "\n",
    "The unexpected finding was the lack of correlation between age and money earned per season for each player. This implies that age alone may not be a reliable predictor of a player's earnings in professional tennis. On the other hand, we discovered a possible relationship between the independent variables of current rank and current Elo rating and the dependent variable of money earned every season. While this trend may give some insights, the high RMSE suggests that the model's forecasts are insufficient for exact earnings estimations.\n",
    "\n",
    "These findings have a potential influence in a variety of ways. Understanding a player's future earnings can give useful insights into their marketability and investment possibilities for fans and sponsors. It may also assist players make financial decisions by estimating how much more earnings they need to gain outside of tournament prize money. Furthermore, these data might help to inform conversations regarding the financial elements of professional tennis, which could lead to changes in prize money distribution or sponsorship options. Overall, the findings in the analysis may have impacts on numerous stakeholders in the professional tennis business.\n",
    "\n",
    "The findings in the analysis raise avenues for exploration of future research. We consider that exploring the impact of additional predictors could potentially improve the model's performance and reduce the RMSE. Therefore, One potential direction is how the inclusion of other factors such as best overall rank, best overall rating and their market value could affect the earnings predictions. In addition, considering the impact of external factors such as global events or changes in tournament structure on players' earnings could also provide valuable insights."
   ]
  }
 ],
 "metadata": {
  "kernelspec": {
   "display_name": "R",
   "language": "R",
   "name": "ir"
  },
  "language_info": {
   "codemirror_mode": "r",
   "file_extension": ".r",
   "mimetype": "text/x-r-source",
   "name": "R",
   "pygments_lexer": "r",
   "version": "4.1.3"
  },
  "toc-autonumbering": true,
  "toc-showmarkdowntxt": false
 },
 "nbformat": 4,
 "nbformat_minor": 5
}
