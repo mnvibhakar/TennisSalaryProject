{
 "cells": [
  {
   "cell_type": "markdown",
   "id": "599869f2-1aa8-4153-95e5-45faa85d373e",
   "metadata": {},
   "source": [
    "This outcome may not have been entirely expected, it seems that there is no corelation between age and money earned per season for each player. Figures reflect there may be a trend between independent variables current rank, current Elo rating and dependent variable money earned per season, but a large RMSE is not desirable for accurate predictions. The inclusion of additional predictors such as best overall rank and best overall rating could potentially improve the model's performance. Future analysis could explore the impact of these additional predictors and employ a forward selection algorithm to determine the optimal set of predictors for reducing the RMSE.\n",
    "\n",
    "The findings could have significant impact in various ways. For fans and sponsors, understanding a player's potential earnings can provide valuable insights into their marketability and investment potential. It can also help players make informed decisions about their career and financial planning, as they can estimate how much additional revenue they need to acquire beyond tournament prize money. Additionally, these findings can contribute to discussions about the financial aspects of professional tennis and potentially influence changes in prize money distribution or sponsorship opportunities.\n",
    "\n",
    "The results of this analysis lead to several future questions and avenues for exploration. One potential question is how the inclusion of other factors such as age, playing style, or injury history could affect the earnings predictions. Additionally, considering the impact of external factors such as global events or changes in tournament structure on players' earnings could provide valuable insights. Exploring the relationship between players' rankings/ratings and their market value could also be an interesting area of investigation. Furthermore, conducting a comparative analysis between men's and women's tennis in terms of earnings and predictors could provide a broader understanding of the sport's financial dynamics."
   ]
  }
 ],
 "metadata": {
  "kernelspec": {
   "display_name": "R",
   "language": "R",
   "name": "ir"
  },
  "language_info": {
   "codemirror_mode": "r",
   "file_extension": ".r",
   "mimetype": "text/x-r-source",
   "name": "R",
   "pygments_lexer": "r",
   "version": "4.1.3"
  },
  "toc-autonumbering": true,
  "toc-showmarkdowntxt": false
 },
 "nbformat": 4,
 "nbformat_minor": 5
}
