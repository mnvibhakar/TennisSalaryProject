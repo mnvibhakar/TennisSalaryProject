{
 "cells": [
  {
   "cell_type": "code",
   "execution_count": 39,
   "id": "eacbf6de-a133-4ae9-8b3c-5793ffb8401a",
   "metadata": {},
   "outputs": [],
   "source": [
    "library(tidyverse)\n",
    "library(tidymodels)\n",
    "library(repr)\n",
    "library(rvest)\n",
    "library(stringr)\n",
    "options(repr.matrix.max.rows = 6)"
   ]
  },
  {
   "cell_type": "code",
   "execution_count": 46,
   "id": "d23a771f-c062-4d52-aabf-6af3b83617c0",
   "metadata": {},
   "outputs": [
    {
     "name": "stderr",
     "output_type": "stream",
     "text": [
      "\u001b[1m\u001b[22mNew names:\n",
      "\u001b[36m•\u001b[39m `` -> `...1`\n",
      "\u001b[1mRows: \u001b[22m\u001b[34m500\u001b[39m \u001b[1mColumns: \u001b[22m\u001b[34m38\u001b[39m\n",
      "\u001b[36m──\u001b[39m \u001b[1mColumn specification\u001b[22m \u001b[36m────────────────────────────────────────────────────────\u001b[39m\n",
      "\u001b[1mDelimiter:\u001b[22m \",\"\n",
      "\u001b[31mchr\u001b[39m (25): Age, Country, Plays, Wikipedia, Current Rank, Best Rank, Name, Bac...\n",
      "\u001b[32mdbl\u001b[39m (13): ...1, Turned Pro, Seasons, Titles, Best Season, Retired, Masters, ...\n",
      "\n",
      "\u001b[36mℹ\u001b[39m Use `spec()` to retrieve the full column specification for this data.\n",
      "\u001b[36mℹ\u001b[39m Specify the column types or set `show_col_types = FALSE` to quiet this message.\n",
      "Warning message in mask$eval_all_mutate(quo):\n",
      "“NAs introduced by coercion”\n"
     ]
    },
    {
     "data": {
      "text/html": [
       "<table class=\"dataframe\">\n",
       "<caption>A tibble: 162 × 5</caption>\n",
       "<thead>\n",
       "\t<tr><th scope=col>Name</th><th scope=col>Age</th><th scope=col>Current.Rank</th><th scope=col>Current.Elo.Rating</th><th scope=col>Money.Per.Season</th></tr>\n",
       "\t<tr><th scope=col>&lt;chr&gt;</th><th scope=col>&lt;dbl&gt;</th><th scope=col>&lt;dbl&gt;</th><th scope=col>&lt;dbl&gt;</th><th scope=col>&lt;dbl&gt;</th></tr>\n",
       "</thead>\n",
       "<tbody>\n",
       "\t<tr><td>Lukas Lacko   </td><td>32</td><td>178</td><td>1764</td><td>232969.1</td></tr>\n",
       "\t<tr><td>Bernard Tomic </td><td>27</td><td>183</td><td>1826</td><td>553815.5</td></tr>\n",
       "\t<tr><td>Hubert Hurkacz</td><td>22</td><td> 31</td><td>1983</td><td>303431.4</td></tr>\n",
       "\t<tr><td>⋮</td><td>⋮</td><td>⋮</td><td>⋮</td><td>⋮</td></tr>\n",
       "\t<tr><td>Brayden Schnur  </td><td>24</td><td>103</td><td>1627</td><td>103659.25</td></tr>\n",
       "\t<tr><td>Mirza Basic     </td><td>28</td><td>292</td><td>1764</td><td>149759.14</td></tr>\n",
       "\t<tr><td>Dimitar Kuzmanov</td><td>26</td><td>324</td><td>1679</td><td> 16608.88</td></tr>\n",
       "</tbody>\n",
       "</table>\n"
      ],
      "text/latex": [
       "A tibble: 162 × 5\n",
       "\\begin{tabular}{lllll}\n",
       " Name & Age & Current.Rank & Current.Elo.Rating & Money.Per.Season\\\\\n",
       " <chr> & <dbl> & <dbl> & <dbl> & <dbl>\\\\\n",
       "\\hline\n",
       "\t Lukas Lacko    & 32 & 178 & 1764 & 232969.1\\\\\n",
       "\t Bernard Tomic  & 27 & 183 & 1826 & 553815.5\\\\\n",
       "\t Hubert Hurkacz & 22 &  31 & 1983 & 303431.4\\\\\n",
       "\t ⋮ & ⋮ & ⋮ & ⋮ & ⋮\\\\\n",
       "\t Brayden Schnur   & 24 & 103 & 1627 & 103659.25\\\\\n",
       "\t Mirza Basic      & 28 & 292 & 1764 & 149759.14\\\\\n",
       "\t Dimitar Kuzmanov & 26 & 324 & 1679 &  16608.88\\\\\n",
       "\\end{tabular}\n"
      ],
      "text/markdown": [
       "\n",
       "A tibble: 162 × 5\n",
       "\n",
       "| Name &lt;chr&gt; | Age &lt;dbl&gt; | Current.Rank &lt;dbl&gt; | Current.Elo.Rating &lt;dbl&gt; | Money.Per.Season &lt;dbl&gt; |\n",
       "|---|---|---|---|---|\n",
       "| Lukas Lacko    | 32 | 178 | 1764 | 232969.1 |\n",
       "| Bernard Tomic  | 27 | 183 | 1826 | 553815.5 |\n",
       "| Hubert Hurkacz | 22 |  31 | 1983 | 303431.4 |\n",
       "| ⋮ | ⋮ | ⋮ | ⋮ | ⋮ |\n",
       "| Brayden Schnur   | 24 | 103 | 1627 | 103659.25 |\n",
       "| Mirza Basic      | 28 | 292 | 1764 | 149759.14 |\n",
       "| Dimitar Kuzmanov | 26 | 324 | 1679 |  16608.88 |\n",
       "\n"
      ],
      "text/plain": [
       "    Name             Age Current.Rank Current.Elo.Rating Money.Per.Season\n",
       "1   Lukas Lacko      32  178          1764               232969.1        \n",
       "2   Bernard Tomic    27  183          1826               553815.5        \n",
       "3   Hubert Hurkacz   22   31          1983               303431.4        \n",
       "⋮   ⋮                ⋮   ⋮            ⋮                  ⋮               \n",
       "160 Brayden Schnur   24  103          1627               103659.25       \n",
       "161 Mirza Basic      28  292          1764               149759.14       \n",
       "162 Dimitar Kuzmanov 26  324          1679                16608.88       "
      ]
     },
     "metadata": {},
     "output_type": "display_data"
    }
   ],
   "source": [
    "tennis <- read_csv('player_stats.csv')\n",
    "colnames(tennis) <- make.names(colnames(tennis))\n",
    "\n",
    "tennis_data <- tennis |>\n",
    "filter(Active == \"Yes\") |>\n",
    "select(Age:Plays, Current.Rank:Prize.Money, Seasons, Current.Elo.Rank:Peak.Elo.Rating) |>\n",
    "separate(col = Age, into = c(\"Age\", \"Birth.Date\"), sep = \" \") |>\n",
    "separate(col = Current.Rank, into = c(\"Current.Rank\", \"Prev.Rank\"), sep = \" \") |>\n",
    "separate(col = Best.Rank, into = c(\"Best.Rank\", \"Best.Rank.Date\"), sep = \" \") |>\n",
    "separate(col = Current.Elo.Rank, into = c(\"Current.Elo.Rank\", \"Current.Elo.Rating\"), sep = \" \") |>\n",
    "separate(col = Best.Elo.Rank, into = c(\"Best.Elo.Rank\", \"Best.Elo.Rank.Date\"), sep = \" \") |>\n",
    "separate(col = Peak.Elo.Rating, into = c(\"Peak.Elo.Rating\", \"Peak.Elo.Rating.Date\"), sep = \" \") |>\n",
    "mutate(Current.Rank = as.numeric(Current.Rank), Current.Elo.Rank = as.numeric(Current.Elo.Rank), Age = as.numeric(Age),\n",
    "       Best.Elo.Rank = as.numeric(Best.Elo.Rank), Peak.Elo.Rating = as.numeric(Peak.Elo.Rating), Best.Rank = as.numeric(Best.Rank),\n",
    "       Prize.Money = as.numeric(gsub(\"[^0-9.-]\", \"\", Prize.Money)),\n",
    "       Current.Elo.Rating = as.numeric(gsub(\"[^0-9.-]\", \"\", Current.Elo.Rating)),\n",
    "       Prev.Rank = as.numeric(gsub(\"[^0-9.-]\", \"\", Prev.Rank)),\n",
    "       Money.Per.Season = Prize.Money/Seasons) |>\n",
    "select(Name, Age, Seasons, Current.Rank, Prev.Rank, Best.Rank, Current.Elo.Rank, Current.Elo.Rating, Best.Elo.Rank, Peak.Elo.Rating,\n",
    "           Prize.Money, Money.Per.Season)|>\n",
    "select(Name, Age, Current.Rank, Current.Elo.Rating, Money.Per.Season)|>\n",
    "drop_na()\n",
    "\n",
    "tennis_data"
   ]
  },
  {
   "cell_type": "code",
   "execution_count": 47,
   "id": "a3e5b04b-1fff-4a81-b597-3cbd93167d0d",
   "metadata": {},
   "outputs": [],
   "source": [
    "set.seed(16)\n",
    "tennis_split <- initial_split(tennis_data, prop = 0.75, strata = Money.Per.Season)\n",
    "tennis_training <- training(tennis_split)\n",
    "tennis_testing <- testing(tennis_split)"
   ]
  },
  {
   "cell_type": "code",
   "execution_count": 48,
   "id": "fe7ae3c8-cbf8-4535-b6eb-4f81070f417c",
   "metadata": {},
   "outputs": [
    {
     "data": {
      "text/html": [
       "3"
      ],
      "text/latex": [
       "3"
      ],
      "text/markdown": [
       "3"
      ],
      "text/plain": [
       "[1] 3"
      ]
     },
     "metadata": {},
     "output_type": "display_data"
    },
    {
     "data": {
      "text/html": [
       "<table class=\"dataframe\">\n",
       "<caption>A tibble: 30 × 7</caption>\n",
       "<thead>\n",
       "\t<tr><th scope=col>neighbors</th><th scope=col>.metric</th><th scope=col>.estimator</th><th scope=col>mean</th><th scope=col>n</th><th scope=col>std_err</th><th scope=col>.config</th></tr>\n",
       "\t<tr><th scope=col>&lt;int&gt;</th><th scope=col>&lt;chr&gt;</th><th scope=col>&lt;chr&gt;</th><th scope=col>&lt;dbl&gt;</th><th scope=col>&lt;int&gt;</th><th scope=col>&lt;dbl&gt;</th><th scope=col>&lt;chr&gt;</th></tr>\n",
       "</thead>\n",
       "<tbody>\n",
       "\t<tr><td>1</td><td>rmse</td><td>standard</td><td>403879.2</td><td>5</td><td>159178.2</td><td>Preprocessor1_Model01</td></tr>\n",
       "\t<tr><td>2</td><td>rmse</td><td>standard</td><td>367663.3</td><td>5</td><td>173068.5</td><td>Preprocessor1_Model02</td></tr>\n",
       "\t<tr><td>3</td><td>rmse</td><td>standard</td><td>361657.0</td><td>5</td><td>179659.7</td><td>Preprocessor1_Model03</td></tr>\n",
       "\t<tr><td>⋮</td><td>⋮</td><td>⋮</td><td>⋮</td><td>⋮</td><td>⋮</td><td>⋮</td></tr>\n",
       "\t<tr><td>28</td><td>rmse</td><td>standard</td><td>395651.7</td><td>5</td><td>191509.3</td><td>Preprocessor1_Model28</td></tr>\n",
       "\t<tr><td>29</td><td>rmse</td><td>standard</td><td>397207.1</td><td>5</td><td>191891.2</td><td>Preprocessor1_Model29</td></tr>\n",
       "\t<tr><td>30</td><td>rmse</td><td>standard</td><td>397283.6</td><td>5</td><td>192630.3</td><td>Preprocessor1_Model30</td></tr>\n",
       "</tbody>\n",
       "</table>\n"
      ],
      "text/latex": [
       "A tibble: 30 × 7\n",
       "\\begin{tabular}{lllllll}\n",
       " neighbors & .metric & .estimator & mean & n & std\\_err & .config\\\\\n",
       " <int> & <chr> & <chr> & <dbl> & <int> & <dbl> & <chr>\\\\\n",
       "\\hline\n",
       "\t 1 & rmse & standard & 403879.2 & 5 & 159178.2 & Preprocessor1\\_Model01\\\\\n",
       "\t 2 & rmse & standard & 367663.3 & 5 & 173068.5 & Preprocessor1\\_Model02\\\\\n",
       "\t 3 & rmse & standard & 361657.0 & 5 & 179659.7 & Preprocessor1\\_Model03\\\\\n",
       "\t ⋮ & ⋮ & ⋮ & ⋮ & ⋮ & ⋮ & ⋮\\\\\n",
       "\t 28 & rmse & standard & 395651.7 & 5 & 191509.3 & Preprocessor1\\_Model28\\\\\n",
       "\t 29 & rmse & standard & 397207.1 & 5 & 191891.2 & Preprocessor1\\_Model29\\\\\n",
       "\t 30 & rmse & standard & 397283.6 & 5 & 192630.3 & Preprocessor1\\_Model30\\\\\n",
       "\\end{tabular}\n"
      ],
      "text/markdown": [
       "\n",
       "A tibble: 30 × 7\n",
       "\n",
       "| neighbors &lt;int&gt; | .metric &lt;chr&gt; | .estimator &lt;chr&gt; | mean &lt;dbl&gt; | n &lt;int&gt; | std_err &lt;dbl&gt; | .config &lt;chr&gt; |\n",
       "|---|---|---|---|---|---|---|\n",
       "| 1 | rmse | standard | 403879.2 | 5 | 159178.2 | Preprocessor1_Model01 |\n",
       "| 2 | rmse | standard | 367663.3 | 5 | 173068.5 | Preprocessor1_Model02 |\n",
       "| 3 | rmse | standard | 361657.0 | 5 | 179659.7 | Preprocessor1_Model03 |\n",
       "| ⋮ | ⋮ | ⋮ | ⋮ | ⋮ | ⋮ | ⋮ |\n",
       "| 28 | rmse | standard | 395651.7 | 5 | 191509.3 | Preprocessor1_Model28 |\n",
       "| 29 | rmse | standard | 397207.1 | 5 | 191891.2 | Preprocessor1_Model29 |\n",
       "| 30 | rmse | standard | 397283.6 | 5 | 192630.3 | Preprocessor1_Model30 |\n",
       "\n"
      ],
      "text/plain": [
       "   neighbors .metric .estimator mean     n std_err  .config              \n",
       "1  1         rmse    standard   403879.2 5 159178.2 Preprocessor1_Model01\n",
       "2  2         rmse    standard   367663.3 5 173068.5 Preprocessor1_Model02\n",
       "3  3         rmse    standard   361657.0 5 179659.7 Preprocessor1_Model03\n",
       "⋮  ⋮         ⋮       ⋮          ⋮        ⋮ ⋮        ⋮                    \n",
       "28 28        rmse    standard   395651.7 5 191509.3 Preprocessor1_Model28\n",
       "29 29        rmse    standard   397207.1 5 191891.2 Preprocessor1_Model29\n",
       "30 30        rmse    standard   397283.6 5 192630.3 Preprocessor1_Model30"
      ]
     },
     "metadata": {},
     "output_type": "display_data"
    },
    {
     "data": {
      "image/png": "[encoded data removed]",
      "text/plain": [
       "plot without title"
      ]
     },
     "metadata": {
      "image/png": {
       "height": 420,
       "width": 420
      }
     },
     "output_type": "display_data"
    }
   ],
   "source": [
    "tennis_recipe <- recipe(Money.Per.Season~Age + Current.Rank + Current.Elo.Rating, data = tennis_training) |>\n",
    "step_scale(all_predictors()) |>\n",
    "step_center(all_predictors())\n",
    "\n",
    "tennis_spec <- nearest_neighbor(weight_func = \"rectangular\", neighbors = tune()) |>\n",
    "set_engine(\"kknn\") |>\n",
    "set_mode(\"regression\")\n",
    "\n",
    "tennis_vfold <- vfold_cv(tennis_training, v = 5, strata = Money.Per.Season)\n",
    "\n",
    "tennis_wkflw <- workflow() |>\n",
    "add_recipe(tennis_recipe) |>\n",
    "add_model(tennis_spec)\n",
    "\n",
    "gridvals <- tibble(neighbors = seq(from = 1, to = 30))\n",
    "tune_results <- tennis_wkflw |>\n",
    "tune_grid(resamples = tennis_vfold, grid = gridvals) |>\n",
    "collect_metrics() |>\n",
    "filter(.metric == \"rmse\")\n",
    "\n",
    "best_k <- filter(tune_results, mean == min(mean)) |>\n",
    "pull(neighbors)\n",
    "best_k \n",
    "tune_results\n",
    "\n",
    "neighbors_plot <- tune_results |>\n",
    "ggplot(aes(x = neighbors, y = mean)) +\n",
    "geom_point()\n",
    "\n",
    "neighbors_plot"
   ]
  },
  {
   "cell_type": "code",
   "execution_count": 51,
   "id": "82ad19cc-e895-4fd0-a387-1d05f9fe4221",
   "metadata": {},
   "outputs": [
    {
     "data": {
      "text/html": [
       "<table class=\"dataframe\">\n",
       "<caption>A tibble: 1 × 3</caption>\n",
       "<thead>\n",
       "\t<tr><th scope=col>.metric</th><th scope=col>.estimator</th><th scope=col>.estimate</th></tr>\n",
       "\t<tr><th scope=col>&lt;chr&gt;</th><th scope=col>&lt;chr&gt;</th><th scope=col>&lt;dbl&gt;</th></tr>\n",
       "</thead>\n",
       "<tbody>\n",
       "\t<tr><td>rmse</td><td>standard</td><td>347601.4</td></tr>\n",
       "</tbody>\n",
       "</table>\n"
      ],
      "text/latex": [
       "A tibble: 1 × 3\n",
       "\\begin{tabular}{lll}\n",
       " .metric & .estimator & .estimate\\\\\n",
       " <chr> & <chr> & <dbl>\\\\\n",
       "\\hline\n",
       "\t rmse & standard & 347601.4\\\\\n",
       "\\end{tabular}\n"
      ],
      "text/markdown": [
       "\n",
       "A tibble: 1 × 3\n",
       "\n",
       "| .metric &lt;chr&gt; | .estimator &lt;chr&gt; | .estimate &lt;dbl&gt; |\n",
       "|---|---|---|\n",
       "| rmse | standard | 347601.4 |\n",
       "\n"
      ],
      "text/plain": [
       "  .metric .estimator .estimate\n",
       "1 rmse    standard   347601.4 "
      ]
     },
     "metadata": {},
     "output_type": "display_data"
    }
   ],
   "source": [
    "best_tennis_spec <- nearest_neighbor(weight_func = \"rectangular\", neighbors = best_k) |>\n",
    "set_engine(\"kknn\") |>\n",
    "set_mode(\"regression\")\n",
    "\n",
    "tennis_fit <- workflow() |>\n",
    "add_recipe(tennis_recipe) |>\n",
    "add_model(best_tennis_spec) |>\n",
    "fit(data = tennis_training)\n",
    "\n",
    "tennis_summary <- tennis_fit |>\n",
    "predict(tennis_testing) |>\n",
    "bind_cols(tennis_testing) |>\n",
    "metrics(truth = Money.Per.Season, estimate = .pred) |>\n",
    "filter(.metric == \"rmse\")\n",
    "tennis_summary"
   ]
  },
  {
   "cell_type": "code",
   "execution_count": null,
   "id": "67594eb4-d5be-42c5-9364-b035c1d75b77",
   "metadata": {},
   "outputs": [],
   "source": []
  }
 ],
 "metadata": {
  "kernelspec": {
   "display_name": "R",
   "language": "R",
   "name": "ir"
  },
  "language_info": {
   "codemirror_mode": "r",
   "file_extension": ".r",
   "mimetype": "text/x-r-source",
   "name": "R",
   "pygments_lexer": "r",
   "version": "4.1.3"
  }
 },
 "nbformat": 4,
 "nbformat_minor": 5
}
